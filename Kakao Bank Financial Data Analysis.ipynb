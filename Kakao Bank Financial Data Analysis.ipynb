{
 "cells": [
  {
   "cell_type": "markdown",
   "metadata": {},
   "source": [
    "# Kakao Bank Data Analysis Project\n",
    "- Author: Daeun Hwang\n",
    "- Topic: Evaluating the Impact of COVID-19 on Delinquency Rates\n",
    "- Analysis Method: Using a logistic model trained on data from 2017-2019 to predict delinquency in 2020. If the predictions differ from actual outcomes, analyze which groups deviate from the predictions."
   ]
  },
  {
   "cell_type": "code",
   "execution_count": null,
   "metadata": {
    "tags": []
   },
   "outputs": [],
   "source": [
    "import pandas as pd\n",
    "import numpy as np\n",
    "import matplotlib.pyplot as plt\n",
    "%matplotlib inline\n",
    "import matplotlib as mpl\n",
    "import matplotlib.font_manager as fm\n",
    "from matplotlib import cm \n",
    "from matplotlib.colors import ListedColormap,LinearSegmentedColormap\n",
    "import seaborn as sns\n",
    "from sklearn.model_selection import train_test_split\n",
    "from sklearn.preprocessing import StandardScaler\n",
    "from sklearn.linear_model import LogisticRegression\n",
    "from sklearn.metrics import classification_report\n",
    "mpl.rcParams['axes.unicode_minus'] = False\n",
    "palette = sns.color_palette(\"bright\")\n",
    "plt.rcParams[\"font.family\"] = 'Nanum Gothic TTF'\n",
    "plt.rcParams[\"font.size\"] = 20\n",
    "plt.rcParams[\"figure.figsize\"] = (14,4)\n",
    "path = 'NanumGothic.ttf'\n",
    "font_name = fm.FontProperties(fname=path, size=50).get_name()\n",
    "plt.rc('font', family=font_name)"
   ]
  },
  {
   "cell_type": "markdown",
   "metadata": {},
   "source": [
    "# 0. Creating The Data Frame"
   ]
  },
  {
   "cell_type": "code",
   "execution_count": null,
   "metadata": {
    "tags": []
   },
   "outputs": [],
   "source": [
    "df20 = pd.read_csv('./data/hhdata2020.csv', engine = 'python')\n",
    "df20 = df20.dropna(subset = ['원리금연체유무']) # Keep Only Rows Where Delinquency Status Variable is Not Null\n",
    "df_code = pd.read_excel('./data/code2020.xlsx', sheet_name = '코드설명서', header = 2, usecols='B:G')"
   ]
  },
  {
   "cell_type": "code",
   "execution_count": 3,
   "metadata": {},
   "outputs": [],
   "source": [
    "# Remove Variables Present in 2017 and 2018 Data but Absent in 2019 and 2020 Data\n",
    "miss_col17 = ['조사부문코드', '가중값(금융부문)','가중값(복지부문)','과거기준입주형태통합코드', '소득5분위코드(금융부문)(보완)','소득5분위코드(복지부문)(보완)',\n",
    "              '자산총액5분위코드(금융부문)', '자산총액5분위코드(복지부문)','순자산5분위코드(금융부문)','순자산5분위코드(금융부문).1','금융자산투자주목적코드']"
   ]
  },
  {
   "cell_type": "code",
   "execution_count": 4,
   "metadata": {},
   "outputs": [],
   "source": [
    "df17 = pd.read_csv('./data/hhdata2017.csv', engine = 'python').drop(miss_col17, axis=1)\n",
    "df17.columns = df20.columns\n",
    "df17 = df17.dropna(subset = ['원리금연체유무'])\n",
    "df18 = pd.read_csv('./data/hhdata2018.csv', engine = 'python').drop(miss_col17, axis=1)\n",
    "df18.columns = df20.columns\n",
    "df18 = df18.dropna(subset = ['원리금연체유무'])               \n",
    "df19 = pd.read_csv('./data/hhdata2019.csv', engine = 'python')\n",
    "df19 = df19.dropna(subset = ['원리금연체유무'])\n",
    "df19.columns = df20.columns"
   ]
  },
  {
   "cell_type": "code",
   "execution_count": 5,
   "metadata": {},
   "outputs": [],
   "source": [
    "df_col = pd.DataFrame(df20.columns, range(1,len(df20.columns)+1), columns = ['변수'])\n",
    "df_code = df_code.fillna(method='ffill').set_index('일련\\n번호')\n",
    "df_code = pd.merge(df_col, df_code, left_index = True, right_index = True).drop(['내용'], axis = 1) # Match Variable Names Between Codebook and Data\n",
    "df_code2 = pd.read_excel('./data/code2017.xlsx', sheet_name = '코드설명서', header = 2, usecols='C:G') # UseCodebook for 2017 and 2018 Data"
   ]
  },
  {
   "cell_type": "code",
   "execution_count": 111,
   "metadata": {},
   "outputs": [],
   "source": [
    "df_ind = pd.read_excel('./data/code2020.xlsx', sheet_name = '산업분류(10차)', header = 2, nrows = 21, usecols='A:B') \n",
    "df_ind = df_ind.append({'대분류':'무직', '분류명':'무직'}, ignore_index = True)"
   ]
  },
  {
   "cell_type": "markdown",
   "metadata": {},
   "source": [
    "# 1. Data Preprocessing\n",
    "## (1) Handling Missing Values"
   ]
  },
  {
   "cell_type": "code",
   "execution_count": 7,
   "metadata": {},
   "outputs": [],
   "source": [
    "missing17 = pd.DataFrame(df17.isnull().sum(), columns = ['missing'])\n",
    "missing_col = missing17[missing17['missing']!=0].index"
   ]
  },
  {
   "cell_type": "code",
   "execution_count": 8,
   "metadata": {},
   "outputs": [
    {
     "data": {
      "text/html": [
       "<div>\n",
       "<style scoped>\n",
       "    .dataframe tbody tr th:only-of-type {\n",
       "        vertical-align: middle;\n",
       "    }\n",
       "\n",
       "    .dataframe tbody tr th {\n",
       "        vertical-align: top;\n",
       "    }\n",
       "\n",
       "    .dataframe thead th {\n",
       "        text-align: right;\n",
       "    }\n",
       "</style>\n",
       "<table border=\"1\" class=\"dataframe\">\n",
       "  <thead>\n",
       "    <tr style=\"text-align: right;\">\n",
       "      <th></th>\n",
       "      <th>가구주_교육정도_수학구분코드</th>\n",
       "      <th>가구주_산업대분류코드</th>\n",
       "      <th>가구주_직업대분류코드</th>\n",
       "      <th>지출_소비지출</th>\n",
       "      <th>지출_소비지출_식료품(외식비포함)</th>\n",
       "      <th>지출_소비지출_주거비</th>\n",
       "      <th>지출_소비지출_교육비(보육료포함)</th>\n",
       "      <th>지출_소비지출_의료비</th>\n",
       "      <th>지출_소비지출_교통비</th>\n",
       "      <th>지출_소비지출_통신비</th>\n",
       "      <th>...</th>\n",
       "      <th>원리금상환기인가계지출감소항목코드</th>\n",
       "      <th>부채상환가능시기코드</th>\n",
       "      <th>가구주_은퇴여부</th>\n",
       "      <th>가구주_미은퇴_은퇴연령</th>\n",
       "      <th>가구주_미은퇴_최소생활비</th>\n",
       "      <th>가구주_미은퇴_적정생활비</th>\n",
       "      <th>가구주_미은퇴_노후준비상황코드</th>\n",
       "      <th>가구주_은퇴실제연령</th>\n",
       "      <th>가구주_은퇴_적정생활비충당여부</th>\n",
       "      <th>가구주은퇴_생활비재원마련코드(2014년~)</th>\n",
       "    </tr>\n",
       "  </thead>\n",
       "  <tbody>\n",
       "    <tr>\n",
       "      <th>missing</th>\n",
       "      <td>94</td>\n",
       "      <td>576</td>\n",
       "      <td>576</td>\n",
       "      <td>5009</td>\n",
       "      <td>5009</td>\n",
       "      <td>5009</td>\n",
       "      <td>5009</td>\n",
       "      <td>5009</td>\n",
       "      <td>5009</td>\n",
       "      <td>5009</td>\n",
       "      <td>...</td>\n",
       "      <td>2441</td>\n",
       "      <td>1</td>\n",
       "      <td>5009</td>\n",
       "      <td>5009</td>\n",
       "      <td>5009</td>\n",
       "      <td>5009</td>\n",
       "      <td>5009</td>\n",
       "      <td>5009</td>\n",
       "      <td>5009</td>\n",
       "      <td>5009</td>\n",
       "    </tr>\n",
       "  </tbody>\n",
       "</table>\n",
       "<p>1 rows × 30 columns</p>\n",
       "</div>"
      ],
      "text/plain": [
       "         가구주_교육정도_수학구분코드  가구주_산업대분류코드  가구주_직업대분류코드  지출_소비지출  \\\n",
       "missing               94          576          576     5009   \n",
       "\n",
       "         지출_소비지출_식료품(외식비포함)  지출_소비지출_주거비  지출_소비지출_교육비(보육료포함)  지출_소비지출_의료비  \\\n",
       "missing                5009         5009                5009         5009   \n",
       "\n",
       "         지출_소비지출_교통비  지출_소비지출_통신비  ...  원리금상환기인가계지출감소항목코드  부채상환가능시기코드  \\\n",
       "missing         5009         5009  ...               2441           1   \n",
       "\n",
       "         가구주_은퇴여부  가구주_미은퇴_은퇴연령  가구주_미은퇴_최소생활비  가구주_미은퇴_적정생활비  \\\n",
       "missing      5009          5009           5009           5009   \n",
       "\n",
       "         가구주_미은퇴_노후준비상황코드  가구주_은퇴실제연령  가구주_은퇴_적정생활비충당여부  \\\n",
       "missing              5009        5009              5009   \n",
       "\n",
       "         가구주은퇴_생활비재원마련코드(2014년~)  \n",
       "missing                     5009  \n",
       "\n",
       "[1 rows x 30 columns]"
      ]
     },
     "execution_count": 8,
     "metadata": {},
     "output_type": "execute_result"
    }
   ],
   "source": [
    "missing17.T[missing_col]"
   ]
  },
  {
   "cell_type": "markdown",
   "metadata": {},
   "source": [
    "- Reason for missing values in the household head's major industry classification code: retirement or unemployment."
   ]
  },
  {
   "cell_type": "code",
   "execution_count": 9,
   "metadata": {},
   "outputs": [
    {
     "data": {
      "text/html": [
       "<div>\n",
       "<style scoped>\n",
       "    .dataframe tbody tr th:only-of-type {\n",
       "        vertical-align: middle;\n",
       "    }\n",
       "\n",
       "    .dataframe tbody tr th {\n",
       "        vertical-align: top;\n",
       "    }\n",
       "\n",
       "    .dataframe thead th {\n",
       "        text-align: right;\n",
       "    }\n",
       "</style>\n",
       "<table border=\"1\" class=\"dataframe\">\n",
       "  <thead>\n",
       "    <tr style=\"text-align: right;\">\n",
       "      <th></th>\n",
       "      <th>기준년도</th>\n",
       "      <th>MD제공용_가구고유번호</th>\n",
       "      <th>가중값</th>\n",
       "      <th>수도권여부</th>\n",
       "      <th>가구주_성별코드</th>\n",
       "      <th>가구원수</th>\n",
       "      <th>노인가구코드</th>\n",
       "      <th>조손가구코드</th>\n",
       "      <th>한부모가구코드</th>\n",
       "      <th>다문화가구(2012년~)</th>\n",
       "      <th>...</th>\n",
       "      <th>원리금상환기인가계지출감소항목코드</th>\n",
       "      <th>부채상환가능시기코드</th>\n",
       "      <th>가구주_은퇴여부</th>\n",
       "      <th>가구주_미은퇴_은퇴연령</th>\n",
       "      <th>가구주_미은퇴_최소생활비</th>\n",
       "      <th>가구주_미은퇴_적정생활비</th>\n",
       "      <th>가구주_미은퇴_노후준비상황코드</th>\n",
       "      <th>가구주_은퇴실제연령</th>\n",
       "      <th>가구주_은퇴_적정생활비충당여부</th>\n",
       "      <th>가구주은퇴_생활비재원마련코드(2014년~)</th>\n",
       "    </tr>\n",
       "  </thead>\n",
       "  <tbody>\n",
       "  </tbody>\n",
       "</table>\n",
       "<p>0 rows × 153 columns</p>\n",
       "</div>"
      ],
      "text/plain": [
       "Empty DataFrame\n",
       "Columns: [기준년도, MD제공용_가구고유번호, 가중값, 수도권여부, 가구주_성별코드, 가구원수, 노인가구코드, 조손가구코드, 한부모가구코드, 다문화가구(2012년~), 장애인가구코드(2012년~), 가구주_교육정도_학력코드, 가구주_교육정도_수학구분코드, 가구주_교육정도_통합코드, 가구주_동거코드, 가구주_산업대분류코드, 가구주_직업대분류코드, 가구주_만연령, 가구주_연령10세단위코드, 가구주_종사상지위코드, 보도용_가구주종사상지위코드, 가구주_혼인상태코드, 입주형태코드, 입주형태통합코드, 전용면적규모코드, 주택종류통합코드, 부채보유여부, 소득5분위코드(보완), 소득계층구간코드(보도용)(보완), 자산총액5분위코드, 순자산5분위코드, 자산금액, 자산_금융자산, 자산_금융자산_저축금액, 자산_금융자산_저축_적립예치식저축금액, 자산_금융자산_저축_기타저축금액, 자산_금융자산_현거주지전월세보증금, 자산_실물자산, 자산_실물자산_부동산금액, 자산_실물자산_부동산_거주주택금액, 자산_실물자산_부동산_거주주택이외부동산금액, 자산_실물자산_부동산_계약금중도금납입금액, 자산_실물자산_기타실물자산, 자산_실물자산_기타실물자산_자동차금액, 자산_실물자산_기타실물자산_기타금액, 자산_실물자산_기타실물자산_기타_자동차이외기타실물자산, 자산_실물자산_기타실물자산_기타_권리금, 부채금액, 부채_금융부채금액, 부채_금융부채_담보대출금액, 부채_금융부채_담보대출_대출용도_거주주택구입금액, 부채_금융부채_담보대출_대출용도_거주주택이외부동산구입금액, 부채_금융부채_담보대출_대출용도_전월세보증금마련금액, 부채_금융부채_담보대출_대출용도_부채상환금액, 부채_금융부채_담보대출_대출용도_사업자금마련금액, 부채_금융부채_담보대출_대출용도_생활비마련금액, 부채_금융부채_담보대출_대출용도_기타용도금액, 부채_금융부채_담보대출_대출기관_은행금액(2010년은 농수협 중앙회 제외), 부채_금융부채_담보대출_대출기관_저축은행금액, 부채_금융부채_담보대출_대출기관_비은행금융기관금액(2010년은 농수협중앙회 포함), 부채_금융부채_담보대출_대출기관_보험회사금액, 부채_금융부채_담보대출_대출기관_기타기관금액, 부채_금융부채_담보대출_상환방법_만기일시금액, 부채_금융부채_담보대출_상환방법_원금분할상환금액, 부채_금융부채_담보대출_상환방법_원리금분할상환금액, 부채_금융부채_담보대출_상환방법_원리금분할일부만기상환금액, 부채_금융부채_담보대출_상환방법_기타상환방법금액, 부채_금융부채_담보대출_담보형태_거주주택금액, 부채_금융부채_담보대출_담보형태_거주주택이외부동산금액, 부채_금융부채_담보대출_담보형태_예적금보험펀드채권금액, 부채_금융부채_담보대출_담보형태_기타금액, 부채_금융부채_담보대출_부동산담보대출금액, 부채_금융부채_담보대출_부동산이외담보대출금액, 부채_금융부채_신용대출금액, 부채_금융부채_신용대출_대출용도_거주주택구입금액, 부채_금융부채_신용대출_대출용도_거주주택이외부동산구입금액, 부채_금융부채_신용대출_대출용도_전월세보증금마련금액, 부채_금융부채_신용대출_대출용도_부채상환금액, 부채_금융부채_신용대출_대출용도_사업자금마련금액, 부채_금융부채_신용대출_대출용도_생활비마련금액, 부채_금융부채_신용대출_대출용도_기타용도금액, 부채_금융부채_신용대출_대출기관_은행금액(2010년은 농수협 중앙회 제외), 부채_금융부채_신용대출_대출기관_저축은행금액, 부채_금융부채_신용대출_대출기관_비은행금융기관금액(2010년은 농수협중앙회 포함), 부채_금융부채_신용대출_대출기관_보험회사금액, 부채_금융부채_신용대출_대출기관_기타기관금액, 부채_금융부채_신용대출_상환방법_만기일시금액, 부채_금융부채_신용대출_상환방법_원리분할상환금액, 부채_금융부채_신용대출_상환방법_원리금분할상환금액, 부채_금융부채_신용대출_상환방법_원리금분할일부만기상환금액, 부채_금융부채_신용대출_상환방법_기타상환방법금액, 부채_금융부채_신용대출_대출종류_신용대출금액, 부채_금융부채_신용대출_대출종류_마이너스통장금액, 부채_금융부채_신용카드관련대출금액, 부채_금융부채_외상할부미상환금액, 부채_금융부채_계탄후불입금액, 부채_금융부채_개인직장빌린금액(2017년~), 부채_임대보증금, 원리금상환금액, 원리금상환_원금상환금액, ...]\n",
       "Index: []\n",
       "\n",
       "[0 rows x 153 columns]"
      ]
     },
     "execution_count": 9,
     "metadata": {},
     "output_type": "execute_result"
    }
   ],
   "source": [
    "df17[df17['가구주_산업대분류코드'].isnull() & (df17['보도용_가구주종사상지위코드']!='G4')]"
   ]
  },
  {
   "cell_type": "code",
   "execution_count": 10,
   "metadata": {},
   "outputs": [],
   "source": [
    "dflist = [df17, df18, df19, df20]"
   ]
  },
  {
   "cell_type": "code",
   "execution_count": 18,
   "metadata": {},
   "outputs": [],
   "source": [
    "miss_col = []\n",
    "for x in range(len(dflist)):\n",
    "    dflist[x]['가구주_산업대분류코드'] = dflist[x]['가구주_산업대분류코드'].fillna('무직')\n",
    "    dflist[x]['원리금연체유무'] = dflist[x]['원리금연체유무'].replace(2,0)\n",
    "    missing = pd.DataFrame(dflist[x].isnull().sum(), columns = ['missing'])\n",
    "    miss_col.extend(missing[missing['missing']!=0].index)\n",
    "miss_col = list(set(miss_col))\n",
    "for x in range(len(dflist)):\n",
    "    dflist[x] = dflist[x].drop(miss_col, axis =1)\n",
    "df17 = dflist[0]\n",
    "df18 = dflist[1]\n",
    "df19 = dflist[2]\n",
    "df20 = dflist[3]"
   ]
  },
  {
   "cell_type": "code",
   "execution_count": null,
   "metadata": {
    "tags": []
   },
   "outputs": [],
   "source": [
    "miss_col # Removed Variables"
   ]
  },
  {
   "cell_type": "markdown",
   "metadata": {},
   "source": [
    "# 2. Descriptive Statistics"
   ]
  },
  {
   "cell_type": "code",
   "execution_count": null,
   "metadata": {
    "tags": []
   },
   "outputs": [],
   "source": [
    "# Delinquency Rate by Year\n",
    "plt.figure()\n",
    "bar = plt.bar(['2017','2018','2019','2020'],[df17['원리금연체유무'].mean(),df18['원리금연체유무'].mean(),\n",
    "                                       df19['원리금연체유무'].mean(),df20['원리금연체유무'].mean()], color = 'gold')\n",
    "for x in bar:\n",
    "    h = x.get_height()\n",
    "    plt.text(x.get_x()+x.get_width()/2,h-0.05, ha='center',s=round(h,2), size = 20)\n",
    "plt.title('연도별 연체율')\n",
    "plt.savefig('./fig/연도별 연체율.png')\n",
    "plt.show()\n"
   ]
  },
  {
   "cell_type": "code",
   "execution_count": 114,
   "metadata": {},
   "outputs": [],
   "source": [
    "#discrete\n",
    "def bar_chart(feature, year):\n",
    "    df = dflist[year]\n",
    "    yes = df[df['원리금연체유무']==1][feature].value_counts()\n",
    "    no = df[df['원리금연체유무']==0][feature].value_counts()\n",
    "    df_p = pd.DataFrame([yes, no]).sort_index(axis =1)\n",
    "    df_p = df_p.div(df_p.sum(axis=0), axis =1)\n",
    "    df_p.index = ['연체O', '연체X']\n",
    "    if feature == '가구주_산업대분류코드':\n",
    "        df_p.columns = df_ind['분류명']\n",
    "        df_p = df_p.T.sort_values(by='연체O', ascendiing =False).T.iloc[:,:5]\n",
    "    else:\n",
    "        df_p.columns = df_code[df_code['변수']==feature]['코드설명'].to_list()\n",
    "    df_p.T.plot(kind='bar', stacked = True, figsize = (10,5), colormap='cividis')\n",
    "    plt.title(f'{year+2017}년 {feature}에 따른 원리금 연체 유무')\n",
    "    \n",
    "    return df_p"
   ]
  },
  {
   "cell_type": "code",
   "execution_count": 84,
   "metadata": {},
   "outputs": [
    {
     "data": {
      "text/html": [
       "<div>\n",
       "<style scoped>\n",
       "    .dataframe tbody tr th:only-of-type {\n",
       "        vertical-align: middle;\n",
       "    }\n",
       "\n",
       "    .dataframe tbody tr th {\n",
       "        vertical-align: top;\n",
       "    }\n",
       "\n",
       "    .dataframe thead th {\n",
       "        text-align: right;\n",
       "    }\n",
       "</style>\n",
       "<table border=\"1\" class=\"dataframe\">\n",
       "  <thead>\n",
       "    <tr style=\"text-align: right;\">\n",
       "      <th></th>\n",
       "      <th>소득1분위</th>\n",
       "      <th>소득2분위</th>\n",
       "      <th>소득3분위</th>\n",
       "      <th>소득4분위</th>\n",
       "      <th>소득5분위</th>\n",
       "    </tr>\n",
       "  </thead>\n",
       "  <tbody>\n",
       "    <tr>\n",
       "      <th>연체O</th>\n",
       "      <td>0.194981</td>\n",
       "      <td>0.142782</td>\n",
       "      <td>0.107143</td>\n",
       "      <td>0.072294</td>\n",
       "      <td>0.064877</td>\n",
       "    </tr>\n",
       "    <tr>\n",
       "      <th>연체X</th>\n",
       "      <td>0.805019</td>\n",
       "      <td>0.857218</td>\n",
       "      <td>0.892857</td>\n",
       "      <td>0.927706</td>\n",
       "      <td>0.935123</td>\n",
       "    </tr>\n",
       "  </tbody>\n",
       "</table>\n",
       "</div>"
      ],
      "text/plain": [
       "        소득1분위     소득2분위     소득3분위     소득4분위     소득5분위\n",
       "연체O  0.194981  0.142782  0.107143  0.072294  0.064877\n",
       "연체X  0.805019  0.857218  0.892857  0.927706  0.935123"
      ]
     },
     "execution_count": 84,
     "metadata": {},
     "output_type": "execute_result"
    },
    {
     "data": {
      "image/png": "[encoded data removed]",
      "text/plain": [
       "<Figure size 720x360 with 1 Axes>"
      ]
     },
     "metadata": {
      "needs_background": "light"
     },
     "output_type": "display_data"
    }
   ],
   "source": [
    "bar_chart('소득5분위코드(보완)', 3)"
   ]
  },
  {
   "cell_type": "code",
   "execution_count": 85,
   "metadata": {},
   "outputs": [
    {
     "data": {
      "text/html": [
       "<div>\n",
       "<style scoped>\n",
       "    .dataframe tbody tr th:only-of-type {\n",
       "        vertical-align: middle;\n",
       "    }\n",
       "\n",
       "    .dataframe tbody tr th {\n",
       "        vertical-align: top;\n",
       "    }\n",
       "\n",
       "    .dataframe thead th {\n",
       "        text-align: right;\n",
       "    }\n",
       "</style>\n",
       "<table border=\"1\" class=\"dataframe\">\n",
       "  <thead>\n",
       "    <tr style=\"text-align: right;\">\n",
       "      <th></th>\n",
       "      <th>30세 미만</th>\n",
       "      <th>30~40세 미만</th>\n",
       "      <th>40~50세 미만</th>\n",
       "      <th>50~60세 미만</th>\n",
       "      <th>60세이상</th>\n",
       "    </tr>\n",
       "  </thead>\n",
       "  <tbody>\n",
       "    <tr>\n",
       "      <th>연체O</th>\n",
       "      <td>0.11215</td>\n",
       "      <td>0.082869</td>\n",
       "      <td>0.113682</td>\n",
       "      <td>0.123077</td>\n",
       "      <td>0.091694</td>\n",
       "    </tr>\n",
       "    <tr>\n",
       "      <th>연체X</th>\n",
       "      <td>0.88785</td>\n",
       "      <td>0.917131</td>\n",
       "      <td>0.886318</td>\n",
       "      <td>0.876923</td>\n",
       "      <td>0.908306</td>\n",
       "    </tr>\n",
       "  </tbody>\n",
       "</table>\n",
       "</div>"
      ],
      "text/plain": [
       "      30세 미만  30~40세 미만  40~50세 미만  50~60세 미만     60세이상\n",
       "연체O  0.11215   0.082869   0.113682   0.123077  0.091694\n",
       "연체X  0.88785   0.917131   0.886318   0.876923  0.908306"
      ]
     },
     "execution_count": 85,
     "metadata": {},
     "output_type": "execute_result"
    },
    {
     "data": {
      "image/png": "[encoded data removed]",
      "text/plain": [
       "<Figure size 720x360 with 1 Axes>"
      ]
     },
     "metadata": {
      "needs_background": "light"
     },
     "output_type": "display_data"
    }
   ],
   "source": [
    "bar_chart('가구주_연령10세단위코드',3)"
   ]
  },
  {
   "cell_type": "code",
   "execution_count": 115,
   "metadata": {},
   "outputs": [
    {
     "data": {
      "text/html": [
       "<div>\n",
       "<style scoped>\n",
       "    .dataframe tbody tr th:only-of-type {\n",
       "        vertical-align: middle;\n",
       "    }\n",
       "\n",
       "    .dataframe tbody tr th {\n",
       "        vertical-align: top;\n",
       "    }\n",
       "\n",
       "    .dataframe thead th {\n",
       "        text-align: right;\n",
       "    }\n",
       "</style>\n",
       "<table border=\"1\" class=\"dataframe\">\n",
       "  <thead>\n",
       "    <tr style=\"text-align: right;\">\n",
       "      <th>분류명</th>\n",
       "      <th>농업, 임업 및 어업</th>\n",
       "      <th>광업</th>\n",
       "      <th>제조업</th>\n",
       "      <th>전기, 가스, 증기 및 공기조절 공급업</th>\n",
       "      <th>수도, 하수 및 폐기물 처리, 원료 재생업</th>\n",
       "      <th>건설업</th>\n",
       "      <th>도매 및 소매업</th>\n",
       "      <th>운수 및 창고업</th>\n",
       "      <th>숙박 및 음식점업</th>\n",
       "      <th>정보통신업</th>\n",
       "      <th>...</th>\n",
       "      <th>전문, 과학 및 기술 서비스업</th>\n",
       "      <th>사업시설관리, 사업지원 및 임대 서비스업</th>\n",
       "      <th>공공행정, 국방 및 사회보장 행정</th>\n",
       "      <th>교육 서비스업</th>\n",
       "      <th>보건업 및 사회복지 서비스업</th>\n",
       "      <th>예술, 스포츠 및 여가관련 서비스업</th>\n",
       "      <th>협회 및 단체, 수리  및 기타 개인 서비스업</th>\n",
       "      <th>가구 내 고용활동 및 달리 분류되지 않은 자가소비 생산 활동</th>\n",
       "      <th>국제 및 외국기관</th>\n",
       "      <th>무직</th>\n",
       "    </tr>\n",
       "  </thead>\n",
       "  <tbody>\n",
       "    <tr>\n",
       "      <th>연체O</th>\n",
       "      <td>0.088768</td>\n",
       "      <td>0.166667</td>\n",
       "      <td>0.093357</td>\n",
       "      <td>0.02</td>\n",
       "      <td>0.021277</td>\n",
       "      <td>0.141799</td>\n",
       "      <td>0.115213</td>\n",
       "      <td>0.097403</td>\n",
       "      <td>0.12731</td>\n",
       "      <td>0.064103</td>\n",
       "      <td>...</td>\n",
       "      <td>0.067568</td>\n",
       "      <td>0.105618</td>\n",
       "      <td>0.052133</td>\n",
       "      <td>0.08802</td>\n",
       "      <td>0.083333</td>\n",
       "      <td>0.13913</td>\n",
       "      <td>0.117143</td>\n",
       "      <td>0.076923</td>\n",
       "      <td>NaN</td>\n",
       "      <td>0.14132</td>\n",
       "    </tr>\n",
       "    <tr>\n",
       "      <th>연체X</th>\n",
       "      <td>0.911232</td>\n",
       "      <td>0.833333</td>\n",
       "      <td>0.906643</td>\n",
       "      <td>0.98</td>\n",
       "      <td>0.978723</td>\n",
       "      <td>0.858201</td>\n",
       "      <td>0.884787</td>\n",
       "      <td>0.902597</td>\n",
       "      <td>0.87269</td>\n",
       "      <td>0.935897</td>\n",
       "      <td>...</td>\n",
       "      <td>0.932432</td>\n",
       "      <td>0.894382</td>\n",
       "      <td>0.947867</td>\n",
       "      <td>0.91198</td>\n",
       "      <td>0.916667</td>\n",
       "      <td>0.86087</td>\n",
       "      <td>0.882857</td>\n",
       "      <td>0.923077</td>\n",
       "      <td>1.0</td>\n",
       "      <td>0.85868</td>\n",
       "    </tr>\n",
       "  </tbody>\n",
       "</table>\n",
       "<p>2 rows × 22 columns</p>\n",
       "</div>"
      ],
      "text/plain": [
       "분류명  농업, 임업 및 어업        광업       제조업  전기, 가스, 증기 및 공기조절 공급업  \\\n",
       "연체O     0.088768  0.166667  0.093357                   0.02   \n",
       "연체X     0.911232  0.833333  0.906643                   0.98   \n",
       "\n",
       "분류명  수도, 하수 및 폐기물 처리, 원료 재생업       건설업  도매 및 소매업  운수 및 창고업  숙박 및 음식점업  \\\n",
       "연체O                 0.021277  0.141799  0.115213  0.097403    0.12731   \n",
       "연체X                 0.978723  0.858201  0.884787  0.902597    0.87269   \n",
       "\n",
       "분류명     정보통신업  ...  전문, 과학 및 기술 서비스업  사업시설관리, 사업지원 및 임대 서비스업  \\\n",
       "연체O  0.064103  ...          0.067568                0.105618   \n",
       "연체X  0.935897  ...          0.932432                0.894382   \n",
       "\n",
       "분류명  공공행정, 국방 및 사회보장 행정  교육 서비스업  보건업 및 사회복지 서비스업  예술, 스포츠 및 여가관련 서비스업  \\\n",
       "연체O            0.052133  0.08802         0.083333              0.13913   \n",
       "연체X            0.947867  0.91198         0.916667              0.86087   \n",
       "\n",
       "분류명  협회 및 단체, 수리  및 기타 개인 서비스업  가구 내 고용활동 및 달리 분류되지 않은 자가소비 생산 활동  국제 및 외국기관  \\\n",
       "연체O                   0.117143                           0.076923        NaN   \n",
       "연체X                   0.882857                           0.923077        1.0   \n",
       "\n",
       "분류명       무직  \n",
       "연체O  0.14132  \n",
       "연체X  0.85868  \n",
       "\n",
       "[2 rows x 22 columns]"
      ]
     },
     "execution_count": 115,
     "metadata": {},
     "output_type": "execute_result"
    },
    {
     "data": {
      "image/png": "[encoded data removed]",
      "text/plain": [
       "<Figure size 720x360 with 1 Axes>"
      ]
     },
     "metadata": {
      "needs_background": "light"
     },
     "output_type": "display_data"
    }
   ],
   "source": [
    "bar_chart('가구주_산업대분류코드',3)"
   ]
  },
  {
   "cell_type": "code",
   "execution_count": 116,
   "metadata": {},
   "outputs": [
    {
     "data": {
      "text/html": [
       "<div>\n",
       "<style scoped>\n",
       "    .dataframe tbody tr th:only-of-type {\n",
       "        vertical-align: middle;\n",
       "    }\n",
       "\n",
       "    .dataframe tbody tr th {\n",
       "        vertical-align: top;\n",
       "    }\n",
       "\n",
       "    .dataframe thead th {\n",
       "        text-align: right;\n",
       "    }\n",
       "</style>\n",
       "<table border=\"1\" class=\"dataframe\">\n",
       "  <thead>\n",
       "    <tr style=\"text-align: right;\">\n",
       "      <th></th>\n",
       "      <th>감소하였다</th>\n",
       "      <th>변화 없었다</th>\n",
       "      <th>증가하였다</th>\n",
       "    </tr>\n",
       "  </thead>\n",
       "  <tbody>\n",
       "    <tr>\n",
       "      <th>연체O</th>\n",
       "      <td>0.076887</td>\n",
       "      <td>0.098979</td>\n",
       "      <td>0.15406</td>\n",
       "    </tr>\n",
       "    <tr>\n",
       "      <th>연체X</th>\n",
       "      <td>0.923113</td>\n",
       "      <td>0.901021</td>\n",
       "      <td>0.84594</td>\n",
       "    </tr>\n",
       "  </tbody>\n",
       "</table>\n",
       "</div>"
      ],
      "text/plain": [
       "        감소하였다    변화 없었다    증가하였다\n",
       "연체O  0.076887  0.098979  0.15406\n",
       "연체X  0.923113  0.901021  0.84594"
      ]
     },
     "execution_count": 116,
     "metadata": {},
     "output_type": "execute_result"
    },
    {
     "data": {
      "image/png": "[encoded data removed]",
      "text/plain": [
       "<Figure size 720x360 with 1 Axes>"
      ]
     },
     "metadata": {
      "needs_background": "light"
     },
     "output_type": "display_data"
    }
   ],
   "source": [
    "bar_chart('1년전대비부채증감코드',3)"
   ]
  },
  {
   "cell_type": "code",
   "execution_count": 117,
   "metadata": {},
   "outputs": [
    {
     "data": {
      "text/html": [
       "<div>\n",
       "<style scoped>\n",
       "    .dataframe tbody tr th:only-of-type {\n",
       "        vertical-align: middle;\n",
       "    }\n",
       "\n",
       "    .dataframe tbody tr th {\n",
       "        vertical-align: top;\n",
       "    }\n",
       "\n",
       "    .dataframe thead th {\n",
       "        text-align: right;\n",
       "    }\n",
       "</style>\n",
       "<table border=\"1\" class=\"dataframe\">\n",
       "  <thead>\n",
       "    <tr style=\"text-align: right;\">\n",
       "      <th></th>\n",
       "      <th>안 받음(미취학 포함)</th>\n",
       "      <th>초등학교</th>\n",
       "      <th>중학교</th>\n",
       "      <th>고등학교</th>\n",
       "      <th>대학(3년제 이하)</th>\n",
       "      <th>대학교(4년제 이상)</th>\n",
       "      <th>대학원석사</th>\n",
       "      <th>대학원박사 이상</th>\n",
       "    </tr>\n",
       "  </thead>\n",
       "  <tbody>\n",
       "    <tr>\n",
       "      <th>연체O</th>\n",
       "      <td>0.135922</td>\n",
       "      <td>0.102964</td>\n",
       "      <td>0.129181</td>\n",
       "      <td>0.126219</td>\n",
       "      <td>0.111028</td>\n",
       "      <td>0.074557</td>\n",
       "      <td>0.085603</td>\n",
       "      <td>0.077519</td>\n",
       "    </tr>\n",
       "    <tr>\n",
       "      <th>연체X</th>\n",
       "      <td>0.864078</td>\n",
       "      <td>0.897036</td>\n",
       "      <td>0.870819</td>\n",
       "      <td>0.873781</td>\n",
       "      <td>0.888972</td>\n",
       "      <td>0.925443</td>\n",
       "      <td>0.914397</td>\n",
       "      <td>0.922481</td>\n",
       "    </tr>\n",
       "  </tbody>\n",
       "</table>\n",
       "</div>"
      ],
      "text/plain": [
       "     안 받음(미취학 포함)      초등학교       중학교      고등학교  대학(3년제 이하)  대학교(4년제 이상)  \\\n",
       "연체O      0.135922  0.102964  0.129181  0.126219    0.111028     0.074557   \n",
       "연체X      0.864078  0.897036  0.870819  0.873781    0.888972     0.925443   \n",
       "\n",
       "        대학원석사  대학원박사 이상  \n",
       "연체O  0.085603  0.077519  \n",
       "연체X  0.914397  0.922481  "
      ]
     },
     "execution_count": 117,
     "metadata": {},
     "output_type": "execute_result"
    },
    {
     "data": {
      "image/png": "[encoded data removed]",
      "text/plain": [
       "<Figure size 720x360 with 1 Axes>"
      ]
     },
     "metadata": {
      "needs_background": "light"
     },
     "output_type": "display_data"
    }
   ],
   "source": [
    "bar_chart('가구주_교육정도_학력코드',3)"
   ]
  },
  {
   "cell_type": "code",
   "execution_count": null,
   "metadata": {},
   "outputs": [],
   "source": [
    "#이전과 달라진 변수\n",
    "def make_df(feature,year):\n",
    "    df = dflist[year]\n",
    "    yes = df[df['원리금연체유무']==1][feature].value_counts()\n",
    "    no = df[df['원리금연체유무']==0][feature].value_counts()\n",
    "    df_p = pd.DataFrame([yes, no]).sort_index(axis =1)\n",
    "    df_p = df_p.div(df_p.sum(axis=0), axis =1)\n",
    "    df_p.index = ['연체O', '연체X']\n",
    "    if feature == '가구주_산업대분류코드':\n",
    "        df_p.columns = df_ind['분류명']\n",
    "        df_p = df_p.T.sort_values(by='연체O', ascendiing =False).T.iloc[:,:5]\n",
    "    else:\n",
    "        df_p.columns = df_code[df_code['변수']==feature]['코드설명'].to_list()\n",
    "def compare_bar(feature):\n",
    "    diff = make_df(feature,3)-make_df(feature,2)\n",
    "    diff.T['연체O'].plot(kind='bar', stacked = True, figsize = (10,5), colormap='cividis')\n",
    "    plt.title(f'2019년 대비 2020년 {feature}에 따른 연체율 증감정도')"
   ]
  },
  {
   "cell_type": "markdown",
   "metadata": {},
   "source": [
    "bar_chart('소득5분위코드(보완)')"
   ]
  },
  {
   "cell_type": "markdown",
   "metadata": {},
   "source": [
    "# 3. Classification"
   ]
  },
  {
   "cell_type": "markdown",
   "metadata": {},
   "source": [
    "## (1) Preprocessing of Categorical and Continuous Variables"
   ]
  },
  {
   "cell_type": "code",
   "execution_count": 119,
   "metadata": {},
   "outputs": [],
   "source": [
    "drop_col = ['MD제공용_가구고유번호','가중값','소득계층구간코드(보도용)(보완)',\n",
    "            '가구주_연령10세단위코드','보도용_가구주종사상지위코드','입주형태코드','가구주_교육정도_통합코드']"
   ]
  },
  {
   "cell_type": "code",
   "execution_count": 120,
   "metadata": {},
   "outputs": [],
   "source": [
    "df = pd.concat([df17, df18, df19, df20]) \n",
    "df = df.drop(drop_col,axis=1)\n",
    "train = df[df['기준년도']<2020] # Train set : 17-19년도 pooling\n",
    "test = df[df['기준년도']==2020] # Test set : 20년도"
   ]
  },
  {
   "cell_type": "code",
   "execution_count": 121,
   "metadata": {},
   "outputs": [],
   "source": [
    "#연속형 변수\n",
    "conti_col_num = [3, 12] + list(range(22,108))"
   ]
  },
  {
   "cell_type": "code",
   "execution_count": 122,
   "metadata": {},
   "outputs": [
    {
     "data": {
      "text/plain": [
       "88"
      ]
     },
     "execution_count": 122,
     "metadata": {},
     "output_type": "execute_result"
    }
   ],
   "source": [
    "len(conti_col_num)"
   ]
  },
  {
   "cell_type": "code",
   "execution_count": 123,
   "metadata": {},
   "outputs": [],
   "source": [
    "X_train_conti = train.iloc[:,conti_col_num]\n",
    "X_train_cate = train.drop(X_train_conti.columns, axis=1).drop('원리금연체유무', axis=1)\n",
    "y_train = train['원리금연체유무']\n",
    "X_test_conti = test.iloc[:,conti_col_num]\n",
    "X_test_cate = test.drop(X_test_conti.columns, axis=1).drop('원리금연체유무', axis=1)\n",
    "y_test = test['원리금연체유무']"
   ]
  },
  {
   "cell_type": "code",
   "execution_count": 124,
   "metadata": {},
   "outputs": [],
   "source": [
    "#범주형 원핫인코딩\n",
    "X_train_cate = pd.get_dummies(X_train_cate, columns = X_train_cate.columns,drop_first = True)\n",
    "X_test_cate = pd.get_dummies(X_test_cate, columns = X_test_cate.columns, drop_first = True)"
   ]
  },
  {
   "cell_type": "code",
   "execution_count": 125,
   "metadata": {},
   "outputs": [],
   "source": [
    "X_test_cate['기준년도_2018']=0\n",
    "X_test_cate['기준년도_2019']=0"
   ]
  },
  {
   "cell_type": "code",
   "execution_count": 126,
   "metadata": {},
   "outputs": [],
   "source": [
    "# 연속형 전처리 (표준화)_conti\n",
    "sc = StandardScaler()\n",
    "X_train_std = sc.fit_transform(X_train_conti)\n",
    "X_test_std = sc.transform(X_test_conti)"
   ]
  },
  {
   "cell_type": "code",
   "execution_count": 127,
   "metadata": {},
   "outputs": [],
   "source": [
    "# 번주형, 연속형 합치기\n",
    "X_train_std = pd.DataFrame(X_train_std, columns = X_train_conti.columns).set_index(X_train_conti.index)\n",
    "X_test_std = pd.DataFrame(X_test_std, columns = X_test_conti.columns).set_index(X_test_conti.index)\n",
    "X_train=pd.concat([X_train_cate, X_train_std], axis=1)\n",
    "X_test=pd.concat([X_test_cate, X_test_std], axis=1)"
   ]
  },
  {
   "cell_type": "markdown",
   "metadata": {},
   "source": [
    "## (2) Logistic Regression"
   ]
  },
  {
   "cell_type": "code",
   "execution_count": 129,
   "metadata": {},
   "outputs": [
    {
     "name": "stderr",
     "output_type": "stream",
     "text": [
      "C:\\Users\\User\\Anaconda3\\lib\\site-packages\\sklearn\\model_selection\\_search.py:925: UserWarning: One or more of the test scores are non-finite: [       nan 0.01651187        nan 0.06656347        nan 0.12745098\n",
      "        nan 0.21001032        nan 0.24251806]\n",
      "  category=UserWarning\n",
      "C:\\Users\\User\\Anaconda3\\lib\\site-packages\\sklearn\\linear_model\\_logistic.py:765: ConvergenceWarning: lbfgs failed to converge (status=1):\n",
      "STOP: TOTAL NO. of ITERATIONS REACHED LIMIT.\n",
      "\n",
      "Increase the number of iterations (max_iter) or scale the data as shown in:\n",
      "    https://scikit-learn.org/stable/modules/preprocessing.html\n",
      "Please also refer to the documentation for alternative solver options:\n",
      "    https://scikit-learn.org/stable/modules/linear_model.html#logistic-regression\n",
      "  extra_warning_msg=_LOGISTIC_SOLVER_CONVERGENCE_MSG)\n"
     ]
    },
    {
     "data": {
      "text/plain": [
       "GridSearchCV(cv=3, estimator=LogisticRegression(), n_jobs=-1,\n",
       "             param_grid={'C': [0.001, 0.01, 0.1, 1, 10],\n",
       "                         'penalty': ['l1', 'l2']},\n",
       "             scoring='recall')"
      ]
     },
     "execution_count": 129,
     "metadata": {},
     "output_type": "execute_result"
    }
   ],
   "source": [
    "#Grid Search\n",
    "from sklearn.model_selection import GridSearchCV\n",
    "parameters = {\"C\": [0.001,0.01,0.1,1,10], \"penalty\":['l1','l2']}\n",
    "lr = LogisticRegression()\n",
    "gs = GridSearchCV(lr, parameters, n_jobs=-1, cv=3, scoring=\"recall\")\n",
    "gs.fit(X_train, y_train)"
   ]
  },
  {
   "cell_type": "code",
   "execution_count": 130,
   "metadata": {},
   "outputs": [
    {
     "data": {
      "text/plain": [
       "0.2425180598555212"
      ]
     },
     "execution_count": 130,
     "metadata": {},
     "output_type": "execute_result"
    }
   ],
   "source": [
    "gs.best_score_"
   ]
  },
  {
   "cell_type": "code",
   "execution_count": 131,
   "metadata": {},
   "outputs": [
    {
     "data": {
      "text/plain": [
       "{'C': 10, 'penalty': 'l2'}"
      ]
     },
     "execution_count": 131,
     "metadata": {},
     "output_type": "execute_result"
    }
   ],
   "source": [
    "gs.best_params_"
   ]
  },
  {
   "cell_type": "code",
   "execution_count": 132,
   "metadata": {},
   "outputs": [
    {
     "name": "stderr",
     "output_type": "stream",
     "text": [
      "C:\\Users\\User\\Anaconda3\\lib\\site-packages\\sklearn\\linear_model\\_logistic.py:765: ConvergenceWarning: lbfgs failed to converge (status=1):\n",
      "STOP: TOTAL NO. of ITERATIONS REACHED LIMIT.\n",
      "\n",
      "Increase the number of iterations (max_iter) or scale the data as shown in:\n",
      "    https://scikit-learn.org/stable/modules/preprocessing.html\n",
      "Please also refer to the documentation for alternative solver options:\n",
      "    https://scikit-learn.org/stable/modules/linear_model.html#logistic-regression\n",
      "  extra_warning_msg=_LOGISTIC_SOLVER_CONVERGENCE_MSG)\n"
     ]
    },
    {
     "data": {
      "text/plain": [
       "0.8946881742525429"
      ]
     },
     "execution_count": 132,
     "metadata": {},
     "output_type": "execute_result"
    }
   ],
   "source": [
    "blr = gs.best_estimator_\n",
    "blr.fit(X_train, y_train)\n",
    "blr.score(X_test, y_test)"
   ]
  },
  {
   "cell_type": "code",
   "execution_count": null,
   "metadata": {},
   "outputs": [],
   "source": [
    "blr.coef_"
   ]
  },
  {
   "cell_type": "code",
   "execution_count": 144,
   "metadata": {},
   "outputs": [
    {
     "data": {
      "text/html": [
       "<div>\n",
       "<style scoped>\n",
       "    .dataframe tbody tr th:only-of-type {\n",
       "        vertical-align: middle;\n",
       "    }\n",
       "\n",
       "    .dataframe tbody tr th {\n",
       "        vertical-align: top;\n",
       "    }\n",
       "\n",
       "    .dataframe thead th {\n",
       "        text-align: right;\n",
       "    }\n",
       "</style>\n",
       "<table border=\"1\" class=\"dataframe\">\n",
       "  <thead>\n",
       "    <tr style=\"text-align: right;\">\n",
       "      <th></th>\n",
       "      <th>y_true</th>\n",
       "      <th>y_pred</th>\n",
       "      <th>기준년도</th>\n",
       "      <th>MD제공용_가구고유번호</th>\n",
       "      <th>가중값</th>\n",
       "      <th>수도권여부</th>\n",
       "      <th>가구주_성별코드</th>\n",
       "      <th>가구원수</th>\n",
       "      <th>노인가구코드</th>\n",
       "      <th>조손가구코드</th>\n",
       "      <th>...</th>\n",
       "      <th>지출_비소비지출_연간지급이자(조사)</th>\n",
       "      <th>여유자금운용계획코드</th>\n",
       "      <th>금융자산투자운용방법코드</th>\n",
       "      <th>금융자산투자고려사항코드</th>\n",
       "      <th>거주지주택가격전망코드</th>\n",
       "      <th>여유자금부동산투자여부</th>\n",
       "      <th>1년후금융부채규모전망코드</th>\n",
       "      <th>1년전대비부채증감코드</th>\n",
       "      <th>원리금연체유무</th>\n",
       "      <th>원리금상환생계부담정도코드</th>\n",
       "    </tr>\n",
       "  </thead>\n",
       "  <tbody>\n",
       "    <tr>\n",
       "      <th>1</th>\n",
       "      <td>1.0</td>\n",
       "      <td>0.0</td>\n",
       "      <td>2020</td>\n",
       "      <td>10000132</td>\n",
       "      <td>1314.119926</td>\n",
       "      <td>G1</td>\n",
       "      <td>2</td>\n",
       "      <td>2</td>\n",
       "      <td>G2</td>\n",
       "      <td>G2</td>\n",
       "      <td>...</td>\n",
       "      <td>500</td>\n",
       "      <td>3</td>\n",
       "      <td>1</td>\n",
       "      <td>3</td>\n",
       "      <td>1</td>\n",
       "      <td>1</td>\n",
       "      <td>1</td>\n",
       "      <td>1.0</td>\n",
       "      <td>1.0</td>\n",
       "      <td>2.0</td>\n",
       "    </tr>\n",
       "    <tr>\n",
       "      <th>32</th>\n",
       "      <td>1.0</td>\n",
       "      <td>0.0</td>\n",
       "      <td>2020</td>\n",
       "      <td>10601111</td>\n",
       "      <td>2318.714812</td>\n",
       "      <td>G1</td>\n",
       "      <td>1</td>\n",
       "      <td>6</td>\n",
       "      <td>G2</td>\n",
       "      <td>G2</td>\n",
       "      <td>...</td>\n",
       "      <td>0</td>\n",
       "      <td>3</td>\n",
       "      <td>1</td>\n",
       "      <td>3</td>\n",
       "      <td>2</td>\n",
       "      <td>1</td>\n",
       "      <td>1</td>\n",
       "      <td>2.0</td>\n",
       "      <td>1.0</td>\n",
       "      <td>3.0</td>\n",
       "    </tr>\n",
       "    <tr>\n",
       "      <th>58</th>\n",
       "      <td>1.0</td>\n",
       "      <td>0.0</td>\n",
       "      <td>2020</td>\n",
       "      <td>10800321</td>\n",
       "      <td>1633.067002</td>\n",
       "      <td>G1</td>\n",
       "      <td>1</td>\n",
       "      <td>1</td>\n",
       "      <td>G2</td>\n",
       "      <td>G2</td>\n",
       "      <td>...</td>\n",
       "      <td>0</td>\n",
       "      <td>3</td>\n",
       "      <td>1</td>\n",
       "      <td>2</td>\n",
       "      <td>2</td>\n",
       "      <td>1</td>\n",
       "      <td>1</td>\n",
       "      <td>1.0</td>\n",
       "      <td>1.0</td>\n",
       "      <td>2.0</td>\n",
       "    </tr>\n",
       "    <tr>\n",
       "      <th>78</th>\n",
       "      <td>1.0</td>\n",
       "      <td>0.0</td>\n",
       "      <td>2020</td>\n",
       "      <td>10900371</td>\n",
       "      <td>2502.345724</td>\n",
       "      <td>G1</td>\n",
       "      <td>2</td>\n",
       "      <td>4</td>\n",
       "      <td>G2</td>\n",
       "      <td>G2</td>\n",
       "      <td>...</td>\n",
       "      <td>0</td>\n",
       "      <td>3</td>\n",
       "      <td>1</td>\n",
       "      <td>2</td>\n",
       "      <td>2</td>\n",
       "      <td>1</td>\n",
       "      <td>1</td>\n",
       "      <td>1.0</td>\n",
       "      <td>1.0</td>\n",
       "      <td>3.0</td>\n",
       "    </tr>\n",
       "    <tr>\n",
       "      <th>90</th>\n",
       "      <td>1.0</td>\n",
       "      <td>0.0</td>\n",
       "      <td>2020</td>\n",
       "      <td>11000302</td>\n",
       "      <td>2761.549409</td>\n",
       "      <td>G1</td>\n",
       "      <td>1</td>\n",
       "      <td>5</td>\n",
       "      <td>G2</td>\n",
       "      <td>G2</td>\n",
       "      <td>...</td>\n",
       "      <td>854</td>\n",
       "      <td>3</td>\n",
       "      <td>1</td>\n",
       "      <td>2</td>\n",
       "      <td>2</td>\n",
       "      <td>1</td>\n",
       "      <td>3</td>\n",
       "      <td>1.0</td>\n",
       "      <td>1.0</td>\n",
       "      <td>2.0</td>\n",
       "    </tr>\n",
       "    <tr>\n",
       "      <th>...</th>\n",
       "      <td>...</td>\n",
       "      <td>...</td>\n",
       "      <td>...</td>\n",
       "      <td>...</td>\n",
       "      <td>...</td>\n",
       "      <td>...</td>\n",
       "      <td>...</td>\n",
       "      <td>...</td>\n",
       "      <td>...</td>\n",
       "      <td>...</td>\n",
       "      <td>...</td>\n",
       "      <td>...</td>\n",
       "      <td>...</td>\n",
       "      <td>...</td>\n",
       "      <td>...</td>\n",
       "      <td>...</td>\n",
       "      <td>...</td>\n",
       "      <td>...</td>\n",
       "      <td>...</td>\n",
       "      <td>...</td>\n",
       "      <td>...</td>\n",
       "    </tr>\n",
       "    <tr>\n",
       "      <th>17969</th>\n",
       "      <td>1.0</td>\n",
       "      <td>0.0</td>\n",
       "      <td>2020</td>\n",
       "      <td>982900301</td>\n",
       "      <td>1397.296816</td>\n",
       "      <td>G2</td>\n",
       "      <td>1</td>\n",
       "      <td>4</td>\n",
       "      <td>G2</td>\n",
       "      <td>G2</td>\n",
       "      <td>...</td>\n",
       "      <td>2904</td>\n",
       "      <td>3</td>\n",
       "      <td>7</td>\n",
       "      <td>1</td>\n",
       "      <td>1</td>\n",
       "      <td>2</td>\n",
       "      <td>3</td>\n",
       "      <td>3.0</td>\n",
       "      <td>1.0</td>\n",
       "      <td>3.0</td>\n",
       "    </tr>\n",
       "    <tr>\n",
       "      <th>18006</th>\n",
       "      <td>1.0</td>\n",
       "      <td>0.0</td>\n",
       "      <td>2020</td>\n",
       "      <td>990700331</td>\n",
       "      <td>435.136995</td>\n",
       "      <td>G2</td>\n",
       "      <td>1</td>\n",
       "      <td>4</td>\n",
       "      <td>G2</td>\n",
       "      <td>G2</td>\n",
       "      <td>...</td>\n",
       "      <td>6</td>\n",
       "      <td>3</td>\n",
       "      <td>1</td>\n",
       "      <td>2</td>\n",
       "      <td>1</td>\n",
       "      <td>2</td>\n",
       "      <td>1</td>\n",
       "      <td>3.0</td>\n",
       "      <td>1.0</td>\n",
       "      <td>3.0</td>\n",
       "    </tr>\n",
       "    <tr>\n",
       "      <th>18015</th>\n",
       "      <td>1.0</td>\n",
       "      <td>0.0</td>\n",
       "      <td>2020</td>\n",
       "      <td>990800301</td>\n",
       "      <td>530.216993</td>\n",
       "      <td>G2</td>\n",
       "      <td>1</td>\n",
       "      <td>4</td>\n",
       "      <td>G2</td>\n",
       "      <td>G2</td>\n",
       "      <td>...</td>\n",
       "      <td>328</td>\n",
       "      <td>2</td>\n",
       "      <td>1</td>\n",
       "      <td>1</td>\n",
       "      <td>4</td>\n",
       "      <td>1</td>\n",
       "      <td>2</td>\n",
       "      <td>2.0</td>\n",
       "      <td>1.0</td>\n",
       "      <td>3.0</td>\n",
       "    </tr>\n",
       "    <tr>\n",
       "      <th>18022</th>\n",
       "      <td>1.0</td>\n",
       "      <td>0.0</td>\n",
       "      <td>2020</td>\n",
       "      <td>990900241</td>\n",
       "      <td>200.916447</td>\n",
       "      <td>G2</td>\n",
       "      <td>1</td>\n",
       "      <td>4</td>\n",
       "      <td>G2</td>\n",
       "      <td>G2</td>\n",
       "      <td>...</td>\n",
       "      <td>205</td>\n",
       "      <td>3</td>\n",
       "      <td>1</td>\n",
       "      <td>2</td>\n",
       "      <td>1</td>\n",
       "      <td>2</td>\n",
       "      <td>1</td>\n",
       "      <td>1.0</td>\n",
       "      <td>1.0</td>\n",
       "      <td>2.0</td>\n",
       "    </tr>\n",
       "    <tr>\n",
       "      <th>18028</th>\n",
       "      <td>1.0</td>\n",
       "      <td>0.0</td>\n",
       "      <td>2020</td>\n",
       "      <td>990900351</td>\n",
       "      <td>614.483584</td>\n",
       "      <td>G2</td>\n",
       "      <td>1</td>\n",
       "      <td>5</td>\n",
       "      <td>G2</td>\n",
       "      <td>G2</td>\n",
       "      <td>...</td>\n",
       "      <td>131</td>\n",
       "      <td>3</td>\n",
       "      <td>1</td>\n",
       "      <td>3</td>\n",
       "      <td>4</td>\n",
       "      <td>2</td>\n",
       "      <td>1</td>\n",
       "      <td>2.0</td>\n",
       "      <td>1.0</td>\n",
       "      <td>2.0</td>\n",
       "    </tr>\n",
       "  </tbody>\n",
       "</table>\n",
       "<p>1022 rows × 126 columns</p>\n",
       "</div>"
      ],
      "text/plain": [
       "       y_true  y_pred  기준년도  MD제공용_가구고유번호          가중값 수도권여부  가구주_성별코드  가구원수  \\\n",
       "1         1.0     0.0  2020      10000132  1314.119926    G1         2     2   \n",
       "32        1.0     0.0  2020      10601111  2318.714812    G1         1     6   \n",
       "58        1.0     0.0  2020      10800321  1633.067002    G1         1     1   \n",
       "78        1.0     0.0  2020      10900371  2502.345724    G1         2     4   \n",
       "90        1.0     0.0  2020      11000302  2761.549409    G1         1     5   \n",
       "...       ...     ...   ...           ...          ...   ...       ...   ...   \n",
       "17969     1.0     0.0  2020     982900301  1397.296816    G2         1     4   \n",
       "18006     1.0     0.0  2020     990700331   435.136995    G2         1     4   \n",
       "18015     1.0     0.0  2020     990800301   530.216993    G2         1     4   \n",
       "18022     1.0     0.0  2020     990900241   200.916447    G2         1     4   \n",
       "18028     1.0     0.0  2020     990900351   614.483584    G2         1     5   \n",
       "\n",
       "      노인가구코드 조손가구코드  ... 지출_비소비지출_연간지급이자(조사) 여유자금운용계획코드 금융자산투자운용방법코드  \\\n",
       "1         G2     G2  ...                 500          3            1   \n",
       "32        G2     G2  ...                   0          3            1   \n",
       "58        G2     G2  ...                   0          3            1   \n",
       "78        G2     G2  ...                   0          3            1   \n",
       "90        G2     G2  ...                 854          3            1   \n",
       "...      ...    ...  ...                 ...        ...          ...   \n",
       "17969     G2     G2  ...                2904          3            7   \n",
       "18006     G2     G2  ...                   6          3            1   \n",
       "18015     G2     G2  ...                 328          2            1   \n",
       "18022     G2     G2  ...                 205          3            1   \n",
       "18028     G2     G2  ...                 131          3            1   \n",
       "\n",
       "       금융자산투자고려사항코드 거주지주택가격전망코드  여유자금부동산투자여부 1년후금융부채규모전망코드  1년전대비부채증감코드  \\\n",
       "1                 3           1            1             1          1.0   \n",
       "32                3           2            1             1          2.0   \n",
       "58                2           2            1             1          1.0   \n",
       "78                2           2            1             1          1.0   \n",
       "90                2           2            1             3          1.0   \n",
       "...             ...         ...          ...           ...          ...   \n",
       "17969             1           1            2             3          3.0   \n",
       "18006             2           1            2             1          3.0   \n",
       "18015             1           4            1             2          2.0   \n",
       "18022             2           1            2             1          1.0   \n",
       "18028             3           4            2             1          2.0   \n",
       "\n",
       "      원리금연체유무  원리금상환생계부담정도코드  \n",
       "1         1.0            2.0  \n",
       "32        1.0            3.0  \n",
       "58        1.0            2.0  \n",
       "78        1.0            3.0  \n",
       "90        1.0            2.0  \n",
       "...       ...            ...  \n",
       "17969     1.0            3.0  \n",
       "18006     1.0            3.0  \n",
       "18015     1.0            3.0  \n",
       "18022     1.0            2.0  \n",
       "18028     1.0            2.0  \n",
       "\n",
       "[1022 rows x 126 columns]"
      ]
     },
     "execution_count": 144,
     "metadata": {},
     "output_type": "execute_result"
    }
   ],
   "source": [
    "y_true, y_pred = y_test, blr.predict(X_test)\n",
    "y_result =pd.DataFrame(y_true)\n",
    "y_result.columns = ['y_true']\n",
    "y_result['y_pred']=y_pred\n",
    "y_incorr = y_result[(y_result['y_pred']==0)& (y_result['y_true']==1)]\n",
    "pd.merge(y_incorr, df20, left_index = True, right_index = True)"
   ]
  },
  {
   "cell_type": "code",
   "execution_count": 137,
   "metadata": {},
   "outputs": [
    {
     "name": "stdout",
     "output_type": "stream",
     "text": [
      "              precision    recall  f1-score   support\n",
      "\n",
      "         0.0       0.89      1.00      0.94      8706\n",
      "         1.0       0.62      0.00      0.01      1027\n",
      "\n",
      "    accuracy                           0.89      9733\n",
      "   macro avg       0.76      0.50      0.48      9733\n",
      "weighted avg       0.87      0.89      0.85      9733\n",
      "\n"
     ]
    }
   ],
   "source": [
    "from sklearn.metrics import classification_report\n",
    "print(classification_report(y_true, y_pred))"
   ]
  },
  {
   "cell_type": "markdown",
   "metadata": {},
   "source": [
    "## (3) Random Forest"
   ]
  },
  {
   "cell_type": "code",
   "execution_count": 262,
   "metadata": {},
   "outputs": [],
   "source": [
    "#train test split\n",
    "X_train, X_test, y_train, y_test = train_test_split(X, y, test_size = 0.3, random_state=1, stratify = y)"
   ]
  },
  {
   "cell_type": "code",
   "execution_count": 300,
   "metadata": {},
   "outputs": [],
   "source": [
    "y_true, y_pred = y_test, forest.predict(X_test)"
   ]
  },
  {
   "cell_type": "code",
   "execution_count": 135,
   "metadata": {},
   "outputs": [
    {
     "data": {
      "text/plain": [
       "RandomForestClassifier(n_estimators=25, n_jobs=2, random_state=1)"
      ]
     },
     "execution_count": 135,
     "metadata": {},
     "output_type": "execute_result"
    }
   ],
   "source": [
    "from sklearn.ensemble import RandomForestClassifier\n",
    "forest = RandomForestClassifier(criterion = 'gini', n_estimators =25, random_state =1, n_jobs=2)\n",
    "forest.fit(X_train, y_train)\n",
    "\n",
    "# plot_decision_regions(df.drop('원리금연체유무', axis=1), df['원리금연체유무'], classifier=forest, test_idx = range(9733,-1))\n",
    "# plt.show"
   ]
  },
  {
   "cell_type": "code",
   "execution_count": 143,
   "metadata": {},
   "outputs": [
    {
     "data": {
      "text/html": [
       "<div>\n",
       "<style scoped>\n",
       "    .dataframe tbody tr th:only-of-type {\n",
       "        vertical-align: middle;\n",
       "    }\n",
       "\n",
       "    .dataframe tbody tr th {\n",
       "        vertical-align: top;\n",
       "    }\n",
       "\n",
       "    .dataframe thead th {\n",
       "        text-align: right;\n",
       "    }\n",
       "</style>\n",
       "<table border=\"1\" class=\"dataframe\">\n",
       "  <thead>\n",
       "    <tr style=\"text-align: right;\">\n",
       "      <th></th>\n",
       "      <th>y_true</th>\n",
       "      <th>y_pred</th>\n",
       "      <th>기준년도</th>\n",
       "      <th>MD제공용_가구고유번호</th>\n",
       "      <th>가중값</th>\n",
       "      <th>수도권여부</th>\n",
       "      <th>가구주_성별코드</th>\n",
       "      <th>가구원수</th>\n",
       "      <th>노인가구코드</th>\n",
       "      <th>조손가구코드</th>\n",
       "      <th>...</th>\n",
       "      <th>지출_비소비지출_연간지급이자(조사)</th>\n",
       "      <th>여유자금운용계획코드</th>\n",
       "      <th>금융자산투자운용방법코드</th>\n",
       "      <th>금융자산투자고려사항코드</th>\n",
       "      <th>거주지주택가격전망코드</th>\n",
       "      <th>여유자금부동산투자여부</th>\n",
       "      <th>1년후금융부채규모전망코드</th>\n",
       "      <th>1년전대비부채증감코드</th>\n",
       "      <th>원리금연체유무</th>\n",
       "      <th>원리금상환생계부담정도코드</th>\n",
       "    </tr>\n",
       "  </thead>\n",
       "  <tbody>\n",
       "    <tr>\n",
       "      <th>1</th>\n",
       "      <td>1.0</td>\n",
       "      <td>0.0</td>\n",
       "      <td>2020</td>\n",
       "      <td>10000132</td>\n",
       "      <td>1314.119926</td>\n",
       "      <td>G1</td>\n",
       "      <td>2</td>\n",
       "      <td>2</td>\n",
       "      <td>G2</td>\n",
       "      <td>G2</td>\n",
       "      <td>...</td>\n",
       "      <td>500</td>\n",
       "      <td>3</td>\n",
       "      <td>1</td>\n",
       "      <td>3</td>\n",
       "      <td>1</td>\n",
       "      <td>1</td>\n",
       "      <td>1</td>\n",
       "      <td>1.0</td>\n",
       "      <td>1.0</td>\n",
       "      <td>2.0</td>\n",
       "    </tr>\n",
       "    <tr>\n",
       "      <th>32</th>\n",
       "      <td>1.0</td>\n",
       "      <td>0.0</td>\n",
       "      <td>2020</td>\n",
       "      <td>10601111</td>\n",
       "      <td>2318.714812</td>\n",
       "      <td>G1</td>\n",
       "      <td>1</td>\n",
       "      <td>6</td>\n",
       "      <td>G2</td>\n",
       "      <td>G2</td>\n",
       "      <td>...</td>\n",
       "      <td>0</td>\n",
       "      <td>3</td>\n",
       "      <td>1</td>\n",
       "      <td>3</td>\n",
       "      <td>2</td>\n",
       "      <td>1</td>\n",
       "      <td>1</td>\n",
       "      <td>2.0</td>\n",
       "      <td>1.0</td>\n",
       "      <td>3.0</td>\n",
       "    </tr>\n",
       "    <tr>\n",
       "      <th>58</th>\n",
       "      <td>1.0</td>\n",
       "      <td>0.0</td>\n",
       "      <td>2020</td>\n",
       "      <td>10800321</td>\n",
       "      <td>1633.067002</td>\n",
       "      <td>G1</td>\n",
       "      <td>1</td>\n",
       "      <td>1</td>\n",
       "      <td>G2</td>\n",
       "      <td>G2</td>\n",
       "      <td>...</td>\n",
       "      <td>0</td>\n",
       "      <td>3</td>\n",
       "      <td>1</td>\n",
       "      <td>2</td>\n",
       "      <td>2</td>\n",
       "      <td>1</td>\n",
       "      <td>1</td>\n",
       "      <td>1.0</td>\n",
       "      <td>1.0</td>\n",
       "      <td>2.0</td>\n",
       "    </tr>\n",
       "    <tr>\n",
       "      <th>78</th>\n",
       "      <td>1.0</td>\n",
       "      <td>0.0</td>\n",
       "      <td>2020</td>\n",
       "      <td>10900371</td>\n",
       "      <td>2502.345724</td>\n",
       "      <td>G1</td>\n",
       "      <td>2</td>\n",
       "      <td>4</td>\n",
       "      <td>G2</td>\n",
       "      <td>G2</td>\n",
       "      <td>...</td>\n",
       "      <td>0</td>\n",
       "      <td>3</td>\n",
       "      <td>1</td>\n",
       "      <td>2</td>\n",
       "      <td>2</td>\n",
       "      <td>1</td>\n",
       "      <td>1</td>\n",
       "      <td>1.0</td>\n",
       "      <td>1.0</td>\n",
       "      <td>3.0</td>\n",
       "    </tr>\n",
       "    <tr>\n",
       "      <th>90</th>\n",
       "      <td>1.0</td>\n",
       "      <td>0.0</td>\n",
       "      <td>2020</td>\n",
       "      <td>11000302</td>\n",
       "      <td>2761.549409</td>\n",
       "      <td>G1</td>\n",
       "      <td>1</td>\n",
       "      <td>5</td>\n",
       "      <td>G2</td>\n",
       "      <td>G2</td>\n",
       "      <td>...</td>\n",
       "      <td>854</td>\n",
       "      <td>3</td>\n",
       "      <td>1</td>\n",
       "      <td>2</td>\n",
       "      <td>2</td>\n",
       "      <td>1</td>\n",
       "      <td>3</td>\n",
       "      <td>1.0</td>\n",
       "      <td>1.0</td>\n",
       "      <td>2.0</td>\n",
       "    </tr>\n",
       "    <tr>\n",
       "      <th>...</th>\n",
       "      <td>...</td>\n",
       "      <td>...</td>\n",
       "      <td>...</td>\n",
       "      <td>...</td>\n",
       "      <td>...</td>\n",
       "      <td>...</td>\n",
       "      <td>...</td>\n",
       "      <td>...</td>\n",
       "      <td>...</td>\n",
       "      <td>...</td>\n",
       "      <td>...</td>\n",
       "      <td>...</td>\n",
       "      <td>...</td>\n",
       "      <td>...</td>\n",
       "      <td>...</td>\n",
       "      <td>...</td>\n",
       "      <td>...</td>\n",
       "      <td>...</td>\n",
       "      <td>...</td>\n",
       "      <td>...</td>\n",
       "      <td>...</td>\n",
       "    </tr>\n",
       "    <tr>\n",
       "      <th>17969</th>\n",
       "      <td>1.0</td>\n",
       "      <td>0.0</td>\n",
       "      <td>2020</td>\n",
       "      <td>982900301</td>\n",
       "      <td>1397.296816</td>\n",
       "      <td>G2</td>\n",
       "      <td>1</td>\n",
       "      <td>4</td>\n",
       "      <td>G2</td>\n",
       "      <td>G2</td>\n",
       "      <td>...</td>\n",
       "      <td>2904</td>\n",
       "      <td>3</td>\n",
       "      <td>7</td>\n",
       "      <td>1</td>\n",
       "      <td>1</td>\n",
       "      <td>2</td>\n",
       "      <td>3</td>\n",
       "      <td>3.0</td>\n",
       "      <td>1.0</td>\n",
       "      <td>3.0</td>\n",
       "    </tr>\n",
       "    <tr>\n",
       "      <th>18006</th>\n",
       "      <td>1.0</td>\n",
       "      <td>0.0</td>\n",
       "      <td>2020</td>\n",
       "      <td>990700331</td>\n",
       "      <td>435.136995</td>\n",
       "      <td>G2</td>\n",
       "      <td>1</td>\n",
       "      <td>4</td>\n",
       "      <td>G2</td>\n",
       "      <td>G2</td>\n",
       "      <td>...</td>\n",
       "      <td>6</td>\n",
       "      <td>3</td>\n",
       "      <td>1</td>\n",
       "      <td>2</td>\n",
       "      <td>1</td>\n",
       "      <td>2</td>\n",
       "      <td>1</td>\n",
       "      <td>3.0</td>\n",
       "      <td>1.0</td>\n",
       "      <td>3.0</td>\n",
       "    </tr>\n",
       "    <tr>\n",
       "      <th>18015</th>\n",
       "      <td>1.0</td>\n",
       "      <td>0.0</td>\n",
       "      <td>2020</td>\n",
       "      <td>990800301</td>\n",
       "      <td>530.216993</td>\n",
       "      <td>G2</td>\n",
       "      <td>1</td>\n",
       "      <td>4</td>\n",
       "      <td>G2</td>\n",
       "      <td>G2</td>\n",
       "      <td>...</td>\n",
       "      <td>328</td>\n",
       "      <td>2</td>\n",
       "      <td>1</td>\n",
       "      <td>1</td>\n",
       "      <td>4</td>\n",
       "      <td>1</td>\n",
       "      <td>2</td>\n",
       "      <td>2.0</td>\n",
       "      <td>1.0</td>\n",
       "      <td>3.0</td>\n",
       "    </tr>\n",
       "    <tr>\n",
       "      <th>18022</th>\n",
       "      <td>1.0</td>\n",
       "      <td>0.0</td>\n",
       "      <td>2020</td>\n",
       "      <td>990900241</td>\n",
       "      <td>200.916447</td>\n",
       "      <td>G2</td>\n",
       "      <td>1</td>\n",
       "      <td>4</td>\n",
       "      <td>G2</td>\n",
       "      <td>G2</td>\n",
       "      <td>...</td>\n",
       "      <td>205</td>\n",
       "      <td>3</td>\n",
       "      <td>1</td>\n",
       "      <td>2</td>\n",
       "      <td>1</td>\n",
       "      <td>2</td>\n",
       "      <td>1</td>\n",
       "      <td>1.0</td>\n",
       "      <td>1.0</td>\n",
       "      <td>2.0</td>\n",
       "    </tr>\n",
       "    <tr>\n",
       "      <th>18028</th>\n",
       "      <td>1.0</td>\n",
       "      <td>0.0</td>\n",
       "      <td>2020</td>\n",
       "      <td>990900351</td>\n",
       "      <td>614.483584</td>\n",
       "      <td>G2</td>\n",
       "      <td>1</td>\n",
       "      <td>5</td>\n",
       "      <td>G2</td>\n",
       "      <td>G2</td>\n",
       "      <td>...</td>\n",
       "      <td>131</td>\n",
       "      <td>3</td>\n",
       "      <td>1</td>\n",
       "      <td>3</td>\n",
       "      <td>4</td>\n",
       "      <td>2</td>\n",
       "      <td>1</td>\n",
       "      <td>2.0</td>\n",
       "      <td>1.0</td>\n",
       "      <td>2.0</td>\n",
       "    </tr>\n",
       "  </tbody>\n",
       "</table>\n",
       "<p>1022 rows × 126 columns</p>\n",
       "</div>"
      ],
      "text/plain": [
       "       y_true  y_pred  기준년도  MD제공용_가구고유번호          가중값 수도권여부  가구주_성별코드  가구원수  \\\n",
       "1         1.0     0.0  2020      10000132  1314.119926    G1         2     2   \n",
       "32        1.0     0.0  2020      10601111  2318.714812    G1         1     6   \n",
       "58        1.0     0.0  2020      10800321  1633.067002    G1         1     1   \n",
       "78        1.0     0.0  2020      10900371  2502.345724    G1         2     4   \n",
       "90        1.0     0.0  2020      11000302  2761.549409    G1         1     5   \n",
       "...       ...     ...   ...           ...          ...   ...       ...   ...   \n",
       "17969     1.0     0.0  2020     982900301  1397.296816    G2         1     4   \n",
       "18006     1.0     0.0  2020     990700331   435.136995    G2         1     4   \n",
       "18015     1.0     0.0  2020     990800301   530.216993    G2         1     4   \n",
       "18022     1.0     0.0  2020     990900241   200.916447    G2         1     4   \n",
       "18028     1.0     0.0  2020     990900351   614.483584    G2         1     5   \n",
       "\n",
       "      노인가구코드 조손가구코드  ... 지출_비소비지출_연간지급이자(조사) 여유자금운용계획코드 금융자산투자운용방법코드  \\\n",
       "1         G2     G2  ...                 500          3            1   \n",
       "32        G2     G2  ...                   0          3            1   \n",
       "58        G2     G2  ...                   0          3            1   \n",
       "78        G2     G2  ...                   0          3            1   \n",
       "90        G2     G2  ...                 854          3            1   \n",
       "...      ...    ...  ...                 ...        ...          ...   \n",
       "17969     G2     G2  ...                2904          3            7   \n",
       "18006     G2     G2  ...                   6          3            1   \n",
       "18015     G2     G2  ...                 328          2            1   \n",
       "18022     G2     G2  ...                 205          3            1   \n",
       "18028     G2     G2  ...                 131          3            1   \n",
       "\n",
       "       금융자산투자고려사항코드 거주지주택가격전망코드  여유자금부동산투자여부 1년후금융부채규모전망코드  1년전대비부채증감코드  \\\n",
       "1                 3           1            1             1          1.0   \n",
       "32                3           2            1             1          2.0   \n",
       "58                2           2            1             1          1.0   \n",
       "78                2           2            1             1          1.0   \n",
       "90                2           2            1             3          1.0   \n",
       "...             ...         ...          ...           ...          ...   \n",
       "17969             1           1            2             3          3.0   \n",
       "18006             2           1            2             1          3.0   \n",
       "18015             1           4            1             2          2.0   \n",
       "18022             2           1            2             1          1.0   \n",
       "18028             3           4            2             1          2.0   \n",
       "\n",
       "      원리금연체유무  원리금상환생계부담정도코드  \n",
       "1         1.0            2.0  \n",
       "32        1.0            3.0  \n",
       "58        1.0            2.0  \n",
       "78        1.0            3.0  \n",
       "90        1.0            2.0  \n",
       "...       ...            ...  \n",
       "17969     1.0            3.0  \n",
       "18006     1.0            3.0  \n",
       "18015     1.0            3.0  \n",
       "18022     1.0            2.0  \n",
       "18028     1.0            2.0  \n",
       "\n",
       "[1022 rows x 126 columns]"
      ]
     },
     "execution_count": 143,
     "metadata": {},
     "output_type": "execute_result"
    }
   ],
   "source": [
    "yrf_true, yrf_pred = y_test, forest.predict(X_test)\n",
    "yrf_result =pd.DataFrame(yrf_true)\n",
    "yrf_result.columns = ['y_true']\n",
    "yrf_result['y_pred']=y_pred\n",
    "yrf_incorr = yrf_result[(yrf_result['y_pred']==0)& (yrf_result['y_true']==1)]\n",
    "pd.merge(yrf_incorr, df20, left_index = True, right_index = True)"
   ]
  },
  {
   "cell_type": "code",
   "execution_count": 141,
   "metadata": {},
   "outputs": [
    {
     "name": "stdout",
     "output_type": "stream",
     "text": [
      "              precision    recall  f1-score   support\n",
      "\n",
      "         0.0       0.90      1.00      0.94      8706\n",
      "         1.0       0.57      0.04      0.07      1027\n",
      "\n",
      "    accuracy                           0.90      9733\n",
      "   macro avg       0.73      0.52      0.51      9733\n",
      "weighted avg       0.86      0.90      0.85      9733\n",
      "\n"
     ]
    }
   ],
   "source": [
    "print(classification_report(yrf_true, yrf_pred))"
   ]
  },
  {
   "cell_type": "markdown",
   "metadata": {},
   "source": [
    "## (4) Support Vector Machine"
   ]
  },
  {
   "cell_type": "code",
   "execution_count": null,
   "metadata": {},
   "outputs": [],
   "source": [
    "from sklearn.svm import SVC\n",
    "svm = SVC()\n",
    "parameters = {\"kernel\": ['linear'], \"C\":[0.01,0.1,1,10], \"gamma\":[0.01,0.1,1,10]}\n",
    "gs = GridSearchCV(svm, parameters, n_jobs=-1, cv=2, scoring=\"recall\")\n",
    "gs.fit(X_train, y_train)"
   ]
  },
  {
   "cell_type": "code",
   "execution_count": null,
   "metadata": {},
   "outputs": [],
   "source": [
    "bsv = gs.best_estimator_\n",
    "bsv.fit(X_train, y_train)\n",
    "bsv.score(X_test, y_test)"
   ]
  },
  {
   "cell_type": "code",
   "execution_count": 147,
   "metadata": {},
   "outputs": [
    {
     "data": {
      "text/plain": [
       "SVC(C=1, gamma=1)"
      ]
     },
     "execution_count": 147,
     "metadata": {},
     "output_type": "execute_result"
    }
   ],
   "source": [
    "svc = SVC(kernel = 'rbf', C=1, gamma=1)\n",
    "svc.fit(X_train, y_train)"
   ]
  },
  {
   "cell_type": "code",
   "execution_count": 148,
   "metadata": {},
   "outputs": [
    {
     "data": {
      "text/html": [
       "<div>\n",
       "<style scoped>\n",
       "    .dataframe tbody tr th:only-of-type {\n",
       "        vertical-align: middle;\n",
       "    }\n",
       "\n",
       "    .dataframe tbody tr th {\n",
       "        vertical-align: top;\n",
       "    }\n",
       "\n",
       "    .dataframe thead th {\n",
       "        text-align: right;\n",
       "    }\n",
       "</style>\n",
       "<table border=\"1\" class=\"dataframe\">\n",
       "  <thead>\n",
       "    <tr style=\"text-align: right;\">\n",
       "      <th></th>\n",
       "      <th>y_true</th>\n",
       "      <th>y_pred</th>\n",
       "      <th>기준년도</th>\n",
       "      <th>MD제공용_가구고유번호</th>\n",
       "      <th>가중값</th>\n",
       "      <th>수도권여부</th>\n",
       "      <th>가구주_성별코드</th>\n",
       "      <th>가구원수</th>\n",
       "      <th>노인가구코드</th>\n",
       "      <th>조손가구코드</th>\n",
       "      <th>...</th>\n",
       "      <th>지출_비소비지출_연간지급이자(조사)</th>\n",
       "      <th>여유자금운용계획코드</th>\n",
       "      <th>금융자산투자운용방법코드</th>\n",
       "      <th>금융자산투자고려사항코드</th>\n",
       "      <th>거주지주택가격전망코드</th>\n",
       "      <th>여유자금부동산투자여부</th>\n",
       "      <th>1년후금융부채규모전망코드</th>\n",
       "      <th>1년전대비부채증감코드</th>\n",
       "      <th>원리금연체유무</th>\n",
       "      <th>원리금상환생계부담정도코드</th>\n",
       "    </tr>\n",
       "  </thead>\n",
       "  <tbody>\n",
       "  </tbody>\n",
       "</table>\n",
       "<p>0 rows × 126 columns</p>\n",
       "</div>"
      ],
      "text/plain": [
       "Empty DataFrame\n",
       "Columns: [y_true, y_pred, 기준년도, MD제공용_가구고유번호, 가중값, 수도권여부, 가구주_성별코드, 가구원수, 노인가구코드, 조손가구코드, 한부모가구코드, 다문화가구(2012년~), 장애인가구코드(2012년~), 가구주_교육정도_학력코드, 가구주_교육정도_통합코드, 가구주_동거코드, 가구주_산업대분류코드, 가구주_만연령, 가구주_연령10세단위코드, 가구주_종사상지위코드, 보도용_가구주종사상지위코드, 가구주_혼인상태코드, 입주형태코드, 입주형태통합코드, 전용면적규모코드, 주택종류통합코드, 부채보유여부, 소득5분위코드(보완), 소득계층구간코드(보도용)(보완), 자산총액5분위코드, 순자산5분위코드, 자산금액, 자산_금융자산, 자산_금융자산_저축금액, 자산_금융자산_저축_적립예치식저축금액, 자산_금융자산_저축_기타저축금액, 자산_금융자산_현거주지전월세보증금, 자산_실물자산, 자산_실물자산_부동산금액, 자산_실물자산_부동산_거주주택금액, 자산_실물자산_부동산_거주주택이외부동산금액, 자산_실물자산_부동산_계약금중도금납입금액, 자산_실물자산_기타실물자산, 자산_실물자산_기타실물자산_자동차금액, 자산_실물자산_기타실물자산_기타금액, 자산_실물자산_기타실물자산_기타_자동차이외기타실물자산, 자산_실물자산_기타실물자산_기타_권리금, 부채금액, 부채_금융부채금액, 부채_금융부채_담보대출금액, 부채_금융부채_담보대출_대출용도_거주주택구입금액, 부채_금융부채_담보대출_대출용도_거주주택이외부동산구입금액, 부채_금융부채_담보대출_대출용도_전월세보증금마련금액, 부채_금융부채_담보대출_대출용도_부채상환금액, 부채_금융부채_담보대출_대출용도_사업자금마련금액, 부채_금융부채_담보대출_대출용도_생활비마련금액, 부채_금융부채_담보대출_대출용도_기타용도금액, 부채_금융부채_담보대출_대출기관_은행금액(2010년은 농수협 중앙회 제외), 부채_금융부채_담보대출_대출기관_저축은행금액, 부채_금융부채_담보대출_대출기관_비은행금융기관금액(2010년은 농수협중앙회 포함), 부채_금융부채_담보대출_대출기관_보험회사금액, 부채_금융부채_담보대출_대출기관_기타기관금액, 부채_금융부채_담보대출_상환방법_만기일시금액, 부채_금융부채_담보대출_상환방법_원금분할상환금액, 부채_금융부채_담보대출_상환방법_원리금분할상환금액, 부채_금융부채_담보대출_상환방법_원리금분할일부만기상환금액, 부채_금융부채_담보대출_상환방법_기타상환방법금액, 부채_금융부채_담보대출_담보형태_거주주택금액, 부채_금융부채_담보대출_담보형태_거주주택이외부동산금액, 부채_금융부채_담보대출_담보형태_예적금보험펀드채권금액, 부채_금융부채_담보대출_담보형태_기타금액, 부채_금융부채_담보대출_부동산담보대출금액, 부채_금융부채_담보대출_부동산이외담보대출금액, 부채_금융부채_신용대출금액, 부채_금융부채_신용대출_대출용도_거주주택구입금액, 부채_금융부채_신용대출_대출용도_거주주택이외부동산구입금액, 부채_금융부채_신용대출_대출용도_전월세보증금마련금액, 부채_금융부채_신용대출_대출용도_부채상환금액, 부채_금융부채_신용대출_대출용도_사업자금마련금액, 부채_금융부채_신용대출_대출용도_생활비마련금액, 부채_금융부채_신용대출_대출용도_기타용도금액, 부채_금융부채_신용대출_대출기관_은행금액(2010년은 농수협 중앙회 제외), 부채_금융부채_신용대출_대출기관_저축은행금액, 부채_금융부채_신용대출_대출기관_비은행금융기관금액(2010년은 농수협중앙회 포함), 부채_금융부채_신용대출_대출기관_보험회사금액, 부채_금융부채_신용대출_대출기관_기타기관금액, 부채_금융부채_신용대출_상환방법_만기일시금액, 부채_금융부채_신용대출_상환방법_원리분할상환금액, 부채_금융부채_신용대출_상환방법_원리금분할상환금액, 부채_금융부채_신용대출_상환방법_원리금분할일부만기상환금액, 부채_금융부채_신용대출_상환방법_기타상환방법금액, 부채_금융부채_신용대출_대출종류_신용대출금액, 부채_금융부채_신용대출_대출종류_마이너스통장금액, 부채_금융부채_신용카드관련대출금액, 부채_금융부채_외상할부미상환금액, 부채_금융부채_계탄후불입금액, 부채_금융부채_개인직장빌린금액(2017년~), 부채_임대보증금, 원리금상환금액, 원리금상환_원금상환금액, ...]\n",
       "Index: []\n",
       "\n",
       "[0 rows x 126 columns]"
      ]
     },
     "execution_count": 148,
     "metadata": {},
     "output_type": "execute_result"
    }
   ],
   "source": [
    "ys_true, ys_pred = y_test, svc.predict(X_test)\n",
    "ys_result =pd.DataFrame(ys_true)\n",
    "ys_result.columns = ['y_true']\n",
    "ys_result['y_pred']=ys_pred\n",
    "ys_incorr = y_result[(ys_result['y_pred']==2)& (ys_result['y_true']==1)]\n",
    "pd.merge(ys_incorr, df20, left_index = True, right_index = True)"
   ]
  },
  {
   "cell_type": "code",
   "execution_count": 149,
   "metadata": {},
   "outputs": [
    {
     "name": "stdout",
     "output_type": "stream",
     "text": [
      "              precision    recall  f1-score   support\n",
      "\n",
      "         0.0       0.89      1.00      0.94      8706\n",
      "         1.0       0.00      0.00      0.00      1027\n",
      "\n",
      "    accuracy                           0.89      9733\n",
      "   macro avg       0.45      0.50      0.47      9733\n",
      "weighted avg       0.80      0.89      0.84      9733\n",
      "\n"
     ]
    },
    {
     "name": "stderr",
     "output_type": "stream",
     "text": [
      "C:\\Users\\User\\Anaconda3\\lib\\site-packages\\sklearn\\metrics\\_classification.py:1248: UndefinedMetricWarning: Precision and F-score are ill-defined and being set to 0.0 in labels with no predicted samples. Use `zero_division` parameter to control this behavior.\n",
      "  _warn_prf(average, modifier, msg_start, len(result))\n",
      "C:\\Users\\User\\Anaconda3\\lib\\site-packages\\sklearn\\metrics\\_classification.py:1248: UndefinedMetricWarning: Precision and F-score are ill-defined and being set to 0.0 in labels with no predicted samples. Use `zero_division` parameter to control this behavior.\n",
      "  _warn_prf(average, modifier, msg_start, len(result))\n",
      "C:\\Users\\User\\Anaconda3\\lib\\site-packages\\sklearn\\metrics\\_classification.py:1248: UndefinedMetricWarning: Precision and F-score are ill-defined and being set to 0.0 in labels with no predicted samples. Use `zero_division` parameter to control this behavior.\n",
      "  _warn_prf(average, modifier, msg_start, len(result))\n"
     ]
    }
   ],
   "source": [
    "print(classification_report(ys_true, ys_pred))"
   ]
  },
  {
   "cell_type": "markdown",
   "metadata": {},
   "source": [
    "# 4. Results"
   ]
  },
  {
   "cell_type": "markdown",
   "metadata": {
    "tags": []
   },
   "source": [
    "- Analysis of Characteristics of Individuals Predicted Not to Default but Defaulted"
   ]
  },
  {
   "cell_type": "code",
   "execution_count": null,
   "metadata": {},
   "outputs": [],
   "source": [
    "# Extracting Individuals Who Defaulted from the Entire DataFrame\n",
    "df_over = df[df['원리금연체유무']==1]\n",
    "# Individuals Who Defaulted but Were Incorrectly Predicted by the Model\n",
    "incorr_over = pd.merge(y_incorr, df20, left_index = True, right_index = True)"
   ]
  },
  {
   "cell_type": "code",
   "execution_count": null,
   "metadata": {},
   "outputs": [],
   "source": [
    "# Categorical Variables\n",
    "def result_cate(feature):\n",
    "    total = df_over[feature].value_counts()\n",
    "    model = incorr_over[feature].value_counts()\n",
    "    df_p = pd.DataFrame([total, model]).sort_index(axis =1)\n",
    "    df_p = df_p.div(df_p.sum(axis=1), axis =0)\n",
    "    df_p.index = ['전체', '모델']\n",
    "    if feature == '가구주_산업대분류코드':\n",
    "        df_p.columns = df_ind['분류명']\n",
    "    else:\n",
    "        df_p.columns = df_code[df_code['변수']==feature]['코드설명'].to_list()\n",
    "    df_p.T.plot(kind='bar', stacked = False, figsize = (10,5), colormap='cividis')\n",
    "    plt.title(f'{year+2017}년 {feature}에 따른 원리금 연체 유무')\n",
    "    \n",
    "    return df_p"
   ]
  },
  {
   "cell_type": "code",
   "execution_count": null,
   "metadata": {},
   "outputs": [],
   "source": [
    "# Box Plot of Continuous Variables\n",
    "def result_conti(feature):\n",
    "    fig, ax = plt.subplots()\n",
    "    ax.boxplot([df_over[feature], incorr_over[feature]],labels=['전체 연체자', '모델에서 잘못 예측한 연체자'])\n",
    "    plt.show()"
   ]
  }
 ],
 "metadata": {
  "kernelspec": {
   "display_name": "Python 3 (ipykernel)",
   "language": "python",
   "name": "python3"
  },
  "language_info": {
   "codemirror_mode": {
    "name": "ipython",
    "version": 3
   },
   "file_extension": ".py",
   "mimetype": "text/x-python",
   "name": "python",
   "nbconvert_exporter": "python",
   "pygments_lexer": "ipython3",
   "version": "3.11.3"
  }
 },
 "nbformat": 4,
 "nbformat_minor": 4
}
